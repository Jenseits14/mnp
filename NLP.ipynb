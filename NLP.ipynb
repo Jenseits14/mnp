{
 "cells": [
  {
   "cell_type": "code",
   "execution_count": 1,
   "metadata": {
    "collapsed": true
   },
   "outputs": [],
   "source": [
    "import pandas as pd"
   ]
  },
  {
   "cell_type": "code",
   "execution_count": 2,
   "metadata": {
    "collapsed": true
   },
   "outputs": [],
   "source": [
    "def processResponses(responsesFilePath):\n",
    "    \n",
    "    \"\"\"\n",
    "    Arguments: Excel file with responses\n",
    "    \n",
    "    Output: Dataframe with uid, LIWC Categories as columns and frequency as values   \n",
    "    \n",
    "    \"\"\"\n",
    "    responses=pd.ExcelFile(responsesFilePath)\n",
    "    responseData=responses.parse('Sheet1')\n",
    "\n",
    "    \"\"\"Lakshya's tokenization and LIWC code \"\"\"\n",
    "    \n",
    "    pass"
   ]
  },
  {
   "cell_type": "code",
   "execution_count": 3,
   "metadata": {
    "collapsed": true
   },
   "outputs": [],
   "source": [
    "def encodeBinary(x, threshold=5):\n",
    "    \n",
    "    \"\"\"\n",
    "    encodes value into a binary variable i.e. if value > threshold: return 1, else return 0\n",
    "    Using this function to encode the entire Personality Dataframe\n",
    "    \n",
    "    Arguments: value, threshold(optional)<default=5>\n",
    "    \n",
    "    Output: binary value- 0 or 1\n",
    "    \n",
    "    \"\"\"\n",
    "    if(x>threshold):\n",
    "        return 1\n",
    "    else:\n",
    "        return 0"
   ]
  },
  {
   "cell_type": "code",
   "execution_count": 8,
   "metadata": {
    "collapsed": false
   },
   "outputs": [],
   "source": [
    "def encodeDF(personalityFilePath):\n",
    "    \"\"\"\n",
    "    encodes the personality score data into binary labels.  \n",
    "    \n",
    "    Arguments: path for the Personality Score csv file\n",
    "    \n",
    "    Output: Data frame with binary labels against each big 5 personality trait for each user\n",
    "    \n",
    "    \"\"\"\n",
    "    persData=pd.read_csv(personalityFilePath, header=0)\n",
    "    for i in persData.columns[1:]:\n",
    "        persData[i]=persData[i].map(encodeBinary)\n",
    "    return persData"
   ]
  },
  {
   "cell_type": "code",
   "execution_count": 5,
   "metadata": {
    "collapsed": true
   },
   "outputs": [],
   "source": [
    "responsesFilePath=\"data-qualitative responses across cultures_fordan.xlsx\"\n",
    "personalityFilePath=\"personality.csv\"  #Dummy Data"
   ]
  },
  {
   "cell_type": "code",
   "execution_count": 9,
   "metadata": {
    "collapsed": false
   },
   "outputs": [],
   "source": [
    "# liwcData=processResponses(responsesFilePath)\n",
    "\n",
    "liwcData=pd.read_csv('liwc.csv') #For testing, will use the one above after function is completed\n",
    "\n",
    "persData=encodeDF(personalityFilePath)"
   ]
  },
  {
   "cell_type": "code",
   "execution_count": 10,
   "metadata": {
    "collapsed": false
   },
   "outputs": [],
   "source": [
    "# Merging LIWC and Personality data to create final dataset\n",
    "\n",
    "finalData=pd.merge(liwcData,persData, left_on='id', right_on='Uid', how='left')"
   ]
  },
  {
   "cell_type": "code",
   "execution_count": 11,
   "metadata": {
    "collapsed": false
   },
   "outputs": [
    {
     "name": "stdout",
     "output_type": "stream",
     "text": [
      "      id   1   2   3   4   5   6   7   8   9  10    Uid  O  C  E  A  N\n",
      "0  usmt1  55  91   2  65  32  11  48   2  31  77  usmt1  0  0  0  0  0\n",
      "1  usmt2  90  57  42  77  81  10  12  96  74  85  usmt2  0  1  1  1  1\n",
      "2  usmt3  30  32  65  89  13  18  23  71   2   8  usmt3  1  0  0  0  1\n",
      "3  usmt4  59  54  18  33  52  53  11  41  43  26  usmt4  0  1  1  0  0\n",
      "4  usmt5  75  51   4  97  42  24  32  48   9   9  usmt5  1  0  0  1  1\n"
     ]
    }
   ],
   "source": [
    "print finalData.head(10)"
   ]
  }
 ],
 "metadata": {
  "anaconda-cloud": {},
  "kernelspec": {
   "display_name": "Python [Root]",
   "language": "python",
   "name": "Python [Root]"
  },
  "language_info": {
   "codemirror_mode": {
    "name": "ipython",
    "version": 2
   },
   "file_extension": ".py",
   "mimetype": "text/x-python",
   "name": "python",
   "nbconvert_exporter": "python",
   "pygments_lexer": "ipython2",
   "version": "2.7.12"
  }
 },
 "nbformat": 4,
 "nbformat_minor": 0
}
