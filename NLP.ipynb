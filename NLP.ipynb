{
 "cells": [
  {
   "cell_type": "code",
   "execution_count": 1,
   "metadata": {
    "collapsed": true
   },
   "outputs": [],
   "source": [
    "import pandas as pd"
   ]
  },
  {
   "cell_type": "code",
   "execution_count": 2,
   "metadata": {
    "collapsed": true
   },
   "outputs": [],
   "source": [
    "def processResponses(responsesFilePath):\n",
    "    \n",
    "    \"\"\"\n",
    "    Arguments: Excel file with responses\n",
    "    \n",
    "    Output: Dataframe with uid, LIWC Categories as columns and frequency as values   \n",
    "    \n",
    "    \"\"\"\n",
    "    responses=pd.ExcelFile(responsesFilePath)\n",
    "    responseData=responses.parse('Sheet1')\n",
    "\n",
    "    \"\"\"Lakshya's tokenization and LIWC code \"\"\"\n",
    "    \n",
    "    pass"
   ]
  },
  {
   "cell_type": "code",
   "execution_count": 3,
   "metadata": {
    "collapsed": true
   },
   "outputs": [],
   "source": [
    "def encodeBinary(x, threshold=5):\n",
    "    \n",
    "    \"\"\"\n",
    "    encodes value into a binary variable i.e. if value > threshold: return 1, else return 0\n",
    "    Using this function to encode the entire Personality Dataframe\n",
    "    \n",
    "    Arguments: value, threshold(optional)<default=5>\n",
    "    \n",
    "    Output: binary value- 0 or 1\n",
    "    \n",
    "    \"\"\"\n",
    "    if(x>threshold):\n",
    "        return 1\n",
    "    else:\n",
    "        return 0"
   ]
  },
  {
   "cell_type": "code",
   "execution_count": 119,
   "metadata": {
    "collapsed": false
   },
   "outputs": [],
   "source": [
    "def encodeDF(personalityFilePath):\n",
    "    \"\"\"\n",
    "    encodes the personality score data into binary labels.  \n",
    "    \n",
    "    Arguments: path for the Personality Score csv file\n",
    "    \n",
    "    Output: Data frame with binary labels against each big 5 personality trait for each user\n",
    "    \n",
    "    \"\"\"\n",
    "    persData=pd.read_csv(personalityFilePath, header=0)\n",
    "    persData=persData.iloc[:,[0, 131,132,133,134,135]]\n",
    "    persData=persData[persData.Openness!=\"#NULL!\"] #Removing rows with no Personality form responses\n",
    "    persData[persData.columns[1:]]=persData[persData.columns[1:]].apply(pd.to_numeric)\n",
    "    print persData.head()\n",
    "    for i in persData.columns[1:]:\n",
    "        persData[i]=persData[i].map(encodeBinary)\n",
    "    return persData"
   ]
  },
  {
   "cell_type": "code",
   "execution_count": 120,
   "metadata": {
    "collapsed": true
   },
   "outputs": [],
   "source": [
    "responsesFilePath=\"data-qualitative responses across cultures_fordan.xlsx\"\n",
    "personalityFilePath=\"persData.csv\""
   ]
  },
  {
   "cell_type": "code",
   "execution_count": 121,
   "metadata": {
    "collapsed": false
   },
   "outputs": [
    {
     "name": "stdout",
     "output_type": "stream",
     "text": [
      "    id  Openness  Extraversion  Agreeableness  Conscientiousness  \\\n",
      "0  c10       5.5           6.5            4.5                2.5   \n",
      "1  c11       6.5           5.5            3.0                6.5   \n",
      "2  c12       6.5           4.5            5.0                6.5   \n",
      "3  c13       5.5           3.5            7.0                6.0   \n",
      "4  c14       6.0           1.5            2.5                5.0   \n",
      "\n",
      "   EmotionalStability  \n",
      "0                 6.0  \n",
      "1                 3.0  \n",
      "2                 4.5  \n",
      "3                 6.5  \n",
      "4                 2.0  \n"
     ]
    }
   ],
   "source": [
    "# liwcData=processResponses(responsesFilePath)\n",
    "\n",
    "liwcData=pd.read_csv('liwc.csv') #For testing, will use the one above after function is completed\n",
    "\n",
    "persData=encodeDF(personalityFilePath)"
   ]
  },
  {
   "cell_type": "code",
   "execution_count": 122,
   "metadata": {
    "collapsed": false
   },
   "outputs": [
    {
     "data": {
      "text/html": [
       "<div>\n",
       "<table border=\"1\" class=\"dataframe\">\n",
       "  <thead>\n",
       "    <tr style=\"text-align: right;\">\n",
       "      <th></th>\n",
       "      <th>id</th>\n",
       "      <th>Openness</th>\n",
       "      <th>Extraversion</th>\n",
       "      <th>Agreeableness</th>\n",
       "      <th>Conscientiousness</th>\n",
       "      <th>EmotionalStability</th>\n",
       "    </tr>\n",
       "  </thead>\n",
       "  <tbody>\n",
       "    <tr>\n",
       "      <th>0</th>\n",
       "      <td>c10</td>\n",
       "      <td>1</td>\n",
       "      <td>1</td>\n",
       "      <td>0</td>\n",
       "      <td>0</td>\n",
       "      <td>1</td>\n",
       "    </tr>\n",
       "    <tr>\n",
       "      <th>1</th>\n",
       "      <td>c11</td>\n",
       "      <td>1</td>\n",
       "      <td>1</td>\n",
       "      <td>0</td>\n",
       "      <td>1</td>\n",
       "      <td>0</td>\n",
       "    </tr>\n",
       "    <tr>\n",
       "      <th>2</th>\n",
       "      <td>c12</td>\n",
       "      <td>1</td>\n",
       "      <td>0</td>\n",
       "      <td>0</td>\n",
       "      <td>1</td>\n",
       "      <td>0</td>\n",
       "    </tr>\n",
       "    <tr>\n",
       "      <th>3</th>\n",
       "      <td>c13</td>\n",
       "      <td>1</td>\n",
       "      <td>0</td>\n",
       "      <td>1</td>\n",
       "      <td>1</td>\n",
       "      <td>1</td>\n",
       "    </tr>\n",
       "    <tr>\n",
       "      <th>4</th>\n",
       "      <td>c14</td>\n",
       "      <td>1</td>\n",
       "      <td>0</td>\n",
       "      <td>0</td>\n",
       "      <td>0</td>\n",
       "      <td>0</td>\n",
       "    </tr>\n",
       "    <tr>\n",
       "      <th>5</th>\n",
       "      <td>c15</td>\n",
       "      <td>1</td>\n",
       "      <td>0</td>\n",
       "      <td>0</td>\n",
       "      <td>0</td>\n",
       "      <td>0</td>\n",
       "    </tr>\n",
       "    <tr>\n",
       "      <th>6</th>\n",
       "      <td>c16</td>\n",
       "      <td>1</td>\n",
       "      <td>1</td>\n",
       "      <td>0</td>\n",
       "      <td>0</td>\n",
       "      <td>0</td>\n",
       "    </tr>\n",
       "    <tr>\n",
       "      <th>7</th>\n",
       "      <td>c2</td>\n",
       "      <td>1</td>\n",
       "      <td>1</td>\n",
       "      <td>0</td>\n",
       "      <td>0</td>\n",
       "      <td>0</td>\n",
       "    </tr>\n",
       "    <tr>\n",
       "      <th>8</th>\n",
       "      <td>c3</td>\n",
       "      <td>1</td>\n",
       "      <td>0</td>\n",
       "      <td>0</td>\n",
       "      <td>0</td>\n",
       "      <td>1</td>\n",
       "    </tr>\n",
       "    <tr>\n",
       "      <th>9</th>\n",
       "      <td>c4</td>\n",
       "      <td>1</td>\n",
       "      <td>1</td>\n",
       "      <td>0</td>\n",
       "      <td>1</td>\n",
       "      <td>0</td>\n",
       "    </tr>\n",
       "  </tbody>\n",
       "</table>\n",
       "</div>"
      ],
      "text/plain": [
       "    id  Openness  Extraversion  Agreeableness  Conscientiousness  \\\n",
       "0  c10         1             1              0                  0   \n",
       "1  c11         1             1              0                  1   \n",
       "2  c12         1             0              0                  1   \n",
       "3  c13         1             0              1                  1   \n",
       "4  c14         1             0              0                  0   \n",
       "5  c15         1             0              0                  0   \n",
       "6  c16         1             1              0                  0   \n",
       "7   c2         1             1              0                  0   \n",
       "8   c3         1             0              0                  0   \n",
       "9   c4         1             1              0                  1   \n",
       "\n",
       "   EmotionalStability  \n",
       "0                   1  \n",
       "1                   0  \n",
       "2                   0  \n",
       "3                   1  \n",
       "4                   0  \n",
       "5                   0  \n",
       "6                   0  \n",
       "7                   0  \n",
       "8                   1  \n",
       "9                   0  "
      ]
     },
     "execution_count": 122,
     "metadata": {},
     "output_type": "execute_result"
    }
   ],
   "source": [
    "persData.head(10)"
   ]
  },
  {
   "cell_type": "code",
   "execution_count": 123,
   "metadata": {
    "collapsed": false
   },
   "outputs": [],
   "source": [
    "# Merging LIWC and Personality data to create final dataset\n",
    "\n",
    "finalData=pd.merge(liwcData,persData, left_on='id', right_on='id', how='left')"
   ]
  },
  {
   "cell_type": "code",
   "execution_count": 126,
   "metadata": {
    "collapsed": false
   },
   "outputs": [
    {
     "name": "stdout",
     "output_type": "stream",
     "text": [
      "      id   1   2   3   4   5   6   7   8   9  10  Openness  Extraversion  \\\n",
      "0  usmt1  55  91   2  65  32  11  48   2  31  77       NaN           NaN   \n",
      "1  usmt2  90  57  42  77  81  10  12  96  74  85       NaN           NaN   \n",
      "2  usmt3  30  32  65  89  13  18  23  71   2   8       NaN           NaN   \n",
      "3  usmt4  59  54  18  33  52  53  11  41  43  26       NaN           NaN   \n",
      "4  usmt5  75  51   4  97  42  24  32  48   9   9       NaN           NaN   \n",
      "\n",
      "   Agreeableness  Conscientiousness  EmotionalStability  \n",
      "0            NaN                NaN                 NaN  \n",
      "1            NaN                NaN                 NaN  \n",
      "2            NaN                NaN                 NaN  \n",
      "3            NaN                NaN                 NaN  \n",
      "4            NaN                NaN                 NaN  \n"
     ]
    }
   ],
   "source": [
    "print finalData"
   ]
  }
 ],
 "metadata": {
  "anaconda-cloud": {},
  "kernelspec": {
   "display_name": "Python [Root]",
   "language": "python",
   "name": "Python [Root]"
  },
  "language_info": {
   "codemirror_mode": {
    "name": "ipython",
    "version": 2
   },
   "file_extension": ".py",
   "mimetype": "text/x-python",
   "name": "python",
   "nbconvert_exporter": "python",
   "pygments_lexer": "ipython2",
   "version": "2.7.12"
  }
 },
 "nbformat": 4,
 "nbformat_minor": 0
}
